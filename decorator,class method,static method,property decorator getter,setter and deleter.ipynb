{
 "cells": [
  {
   "cell_type": "markdown",
   "id": "c2cbb981-0940-497e-bc39-91f25b6e7761",
   "metadata": {},
   "source": [
    "1.Decorator"
   ]
  },
  {
   "cell_type": "code",
   "execution_count": 1,
   "id": "3ebdca92-47b8-441a-acdb-c878f46117e7",
   "metadata": {},
   "outputs": [],
   "source": [
    "#if one wants to repeat the set of code in different function then he can use decorator"
   ]
  },
  {
   "cell_type": "code",
   "execution_count": 2,
   "id": "779fb5f0-48b1-44d5-a968-840cd56dc97f",
   "metadata": {},
   "outputs": [],
   "source": [
    "import time\n",
    "def timer_test(func):\n",
    "    def timer_test_inner():\n",
    "        start=time.time()\n",
    "        func()\n",
    "        end=time.time()\n",
    "        print(end-start)\n",
    "    return timer_test_inner"
   ]
  },
  {
   "cell_type": "code",
   "execution_count": 3,
   "id": "9e022a86-db71-47a9-b681-b0c39ee007c0",
   "metadata": {},
   "outputs": [],
   "source": [
    "@timer_test\n",
    "def test2():\n",
    "    print(45+67)"
   ]
  },
  {
   "cell_type": "code",
   "execution_count": 4,
   "id": "c8afa9f8-e7bc-4775-a9c0-098972f45ebe",
   "metadata": {},
   "outputs": [
    {
     "name": "stdout",
     "output_type": "stream",
     "text": [
      "112\n",
      "4.458427429199219e-05\n"
     ]
    }
   ],
   "source": [
    "test2()"
   ]
  },
  {
   "cell_type": "markdown",
   "id": "d5c5af04-8a5d-43d8-87b0-2e433a53b578",
   "metadata": {},
   "source": [
    "2.class method"
   ]
  },
  {
   "cell_type": "code",
   "execution_count": 5,
   "id": "9a1f2c9f-7011-4ba4-a1f4-589d747f6430",
   "metadata": {},
   "outputs": [],
   "source": [
    "#it is a global method can directly access from class name"
   ]
  },
  {
   "cell_type": "code",
   "execution_count": 25,
   "id": "e9863f56-d0f3-43ae-8b83-852a7d801579",
   "metadata": {},
   "outputs": [],
   "source": [
    "class pwskills:\n",
    "    def __init__(self, name , email):\n",
    "        self.name = name\n",
    "        self.email = email\n",
    "    @classmethod\n",
    "    def details(cls,name,email):\n",
    "        return cls(name,email)\n",
    "    def student_details(self):\n",
    "        print(self.name , self.email)"
   ]
  },
  {
   "cell_type": "code",
   "execution_count": 27,
   "id": "e52b986f-2512-409a-b26c-24266dc6301c",
   "metadata": {},
   "outputs": [
    {
     "data": {
      "text/plain": [
       "'mohan'"
      ]
     },
     "execution_count": 27,
     "metadata": {},
     "output_type": "execute_result"
    }
   ],
   "source": [
    "pw=pwskills.details(\"mohan\",\"mohan@gmail.com\")\n",
    "pw.name"
   ]
  },
  {
   "cell_type": "markdown",
   "id": "1532d9fb-f12e-4b12-83d0-a771690035f8",
   "metadata": {},
   "source": [
    "3.static method"
   ]
  },
  {
   "cell_type": "code",
   "execution_count": 1,
   "id": "8777c074-8819-4e0f-9320-49ab132848b6",
   "metadata": {},
   "outputs": [],
   "source": [
    "#it should not depend on object"
   ]
  },
  {
   "cell_type": "code",
   "execution_count": 5,
   "id": "6c0f160b-afc7-43f4-b225-c1c6427cc8f4",
   "metadata": {},
   "outputs": [],
   "source": [
    "class pwskill1:\n",
    "    def stu_details(self,name,mailid,number):\n",
    "        print(name,mailid,number)\n",
    "    @staticmethod\n",
    "    def mentor_class(list_mentor):\n",
    "        print(list_mentor)\n",
    "#     def display(self,mentor_list):\n",
    "#         print(mentor_list)\n",
    "        "
   ]
  },
  {
   "cell_type": "code",
   "execution_count": 6,
   "id": "8199a57f-2edd-45fe-a4c8-ab9250c8da15",
   "metadata": {},
   "outputs": [
    {
     "name": "stdout",
     "output_type": "stream",
     "text": [
      "['su', 'krill']\n"
     ]
    }
   ],
   "source": [
    "pwskill1.mentor_class([\"su\",\"krill\"])"
   ]
  },
  {
   "cell_type": "markdown",
   "id": "75154470-1947-474b-909b-7c436f936ab1",
   "metadata": {},
   "source": [
    "4.special(magic or dunder)"
   ]
  },
  {
   "cell_type": "code",
   "execution_count": 7,
   "id": "2e44675b-5f32-42d0-9d83-b0172e0ff09d",
   "metadata": {},
   "outputs": [
    {
     "data": {
      "text/plain": [
       "['__abs__',\n",
       " '__add__',\n",
       " '__and__',\n",
       " '__bool__',\n",
       " '__ceil__',\n",
       " '__class__',\n",
       " '__delattr__',\n",
       " '__dir__',\n",
       " '__divmod__',\n",
       " '__doc__',\n",
       " '__eq__',\n",
       " '__float__',\n",
       " '__floor__',\n",
       " '__floordiv__',\n",
       " '__format__',\n",
       " '__ge__',\n",
       " '__getattribute__',\n",
       " '__getnewargs__',\n",
       " '__gt__',\n",
       " '__hash__',\n",
       " '__index__',\n",
       " '__init__',\n",
       " '__init_subclass__',\n",
       " '__int__',\n",
       " '__invert__',\n",
       " '__le__',\n",
       " '__lshift__',\n",
       " '__lt__',\n",
       " '__mod__',\n",
       " '__mul__',\n",
       " '__ne__',\n",
       " '__neg__',\n",
       " '__new__',\n",
       " '__or__',\n",
       " '__pos__',\n",
       " '__pow__',\n",
       " '__radd__',\n",
       " '__rand__',\n",
       " '__rdivmod__',\n",
       " '__reduce__',\n",
       " '__reduce_ex__',\n",
       " '__repr__',\n",
       " '__rfloordiv__',\n",
       " '__rlshift__',\n",
       " '__rmod__',\n",
       " '__rmul__',\n",
       " '__ror__',\n",
       " '__round__',\n",
       " '__rpow__',\n",
       " '__rrshift__',\n",
       " '__rshift__',\n",
       " '__rsub__',\n",
       " '__rtruediv__',\n",
       " '__rxor__',\n",
       " '__setattr__',\n",
       " '__sizeof__',\n",
       " '__str__',\n",
       " '__sub__',\n",
       " '__subclasshook__',\n",
       " '__truediv__',\n",
       " '__trunc__',\n",
       " '__xor__',\n",
       " 'as_integer_ratio',\n",
       " 'bit_count',\n",
       " 'bit_length',\n",
       " 'conjugate',\n",
       " 'denominator',\n",
       " 'from_bytes',\n",
       " 'imag',\n",
       " 'numerator',\n",
       " 'real',\n",
       " 'to_bytes']"
      ]
     },
     "execution_count": 7,
     "metadata": {},
     "output_type": "execute_result"
    }
   ],
   "source": [
    "dir(int)"
   ]
  },
  {
   "cell_type": "code",
   "execution_count": 8,
   "id": "ae530492-f63a-44e8-8c3f-00f8b5619568",
   "metadata": {},
   "outputs": [
    {
     "data": {
      "text/plain": [
       "22"
      ]
     },
     "execution_count": 8,
     "metadata": {},
     "output_type": "execute_result"
    }
   ],
   "source": [
    "a=16\n",
    "a.__add__(6)"
   ]
  },
  {
   "cell_type": "code",
   "execution_count": 9,
   "id": "45bd6e04-2199-4d36-b671-8526b96c5439",
   "metadata": {},
   "outputs": [
    {
     "data": {
      "text/plain": [
       "['__add__',\n",
       " '__class__',\n",
       " '__contains__',\n",
       " '__delattr__',\n",
       " '__dir__',\n",
       " '__doc__',\n",
       " '__eq__',\n",
       " '__format__',\n",
       " '__ge__',\n",
       " '__getattribute__',\n",
       " '__getitem__',\n",
       " '__getnewargs__',\n",
       " '__gt__',\n",
       " '__hash__',\n",
       " '__init__',\n",
       " '__init_subclass__',\n",
       " '__iter__',\n",
       " '__le__',\n",
       " '__len__',\n",
       " '__lt__',\n",
       " '__mod__',\n",
       " '__mul__',\n",
       " '__ne__',\n",
       " '__new__',\n",
       " '__reduce__',\n",
       " '__reduce_ex__',\n",
       " '__repr__',\n",
       " '__rmod__',\n",
       " '__rmul__',\n",
       " '__setattr__',\n",
       " '__sizeof__',\n",
       " '__str__',\n",
       " '__subclasshook__',\n",
       " 'capitalize',\n",
       " 'casefold',\n",
       " 'center',\n",
       " 'count',\n",
       " 'encode',\n",
       " 'endswith',\n",
       " 'expandtabs',\n",
       " 'find',\n",
       " 'format',\n",
       " 'format_map',\n",
       " 'index',\n",
       " 'isalnum',\n",
       " 'isalpha',\n",
       " 'isascii',\n",
       " 'isdecimal',\n",
       " 'isdigit',\n",
       " 'isidentifier',\n",
       " 'islower',\n",
       " 'isnumeric',\n",
       " 'isprintable',\n",
       " 'isspace',\n",
       " 'istitle',\n",
       " 'isupper',\n",
       " 'join',\n",
       " 'ljust',\n",
       " 'lower',\n",
       " 'lstrip',\n",
       " 'maketrans',\n",
       " 'partition',\n",
       " 'removeprefix',\n",
       " 'removesuffix',\n",
       " 'replace',\n",
       " 'rfind',\n",
       " 'rindex',\n",
       " 'rjust',\n",
       " 'rpartition',\n",
       " 'rsplit',\n",
       " 'rstrip',\n",
       " 'split',\n",
       " 'splitlines',\n",
       " 'startswith',\n",
       " 'strip',\n",
       " 'swapcase',\n",
       " 'title',\n",
       " 'translate',\n",
       " 'upper',\n",
       " 'zfill']"
      ]
     },
     "execution_count": 9,
     "metadata": {},
     "output_type": "execute_result"
    }
   ],
   "source": [
    "dir(str)"
   ]
  },
  {
   "cell_type": "markdown",
   "id": "f1e4d460-ca42-4093-8e22-7ebfbfce0ce9",
   "metadata": {},
   "source": [
    "5.property decorator ,getters,setters,and deleters"
   ]
  },
  {
   "cell_type": "code",
   "execution_count": 13,
   "id": "6be1233b-71b0-46a2-812e-0ddae5084908",
   "metadata": {},
   "outputs": [],
   "source": [
    "class pwskills:\n",
    "    def __init__(self,course_price,course_name):\n",
    "        #protected memer has __\n",
    "        self.__course_price=course_price\n",
    "        self.course_name=course_name\n",
    "    @property\n",
    "    def course_price_access(self):\n",
    "        return self.__course_price\n",
    "    @course_price_access.setter\n",
    "    def course_price_set(self , price):\n",
    "        if price <= 3500:\n",
    "            pass\n",
    "        else :\n",
    "            self.__course_price = price\n",
    "            \n",
    "    @course_price_access.deleter \n",
    "    def course_price_del(self):\n",
    "        del  self.__course_price"
   ]
  },
  {
   "cell_type": "code",
   "execution_count": 18,
   "id": "9dfc759c-cbc2-482f-aa12-764dc21e84b9",
   "metadata": {},
   "outputs": [],
   "source": [
    "p=pwskills.course_price_access"
   ]
  },
  {
   "cell_type": "code",
   "execution_count": 19,
   "id": "7c84f5fd-ead2-449f-8a35-c33ca81ae089",
   "metadata": {},
   "outputs": [
    {
     "data": {
      "text/plain": [
       "4500"
      ]
     },
     "execution_count": 19,
     "metadata": {},
     "output_type": "execute_result"
    }
   ],
   "source": [
    "4500"
   ]
  },
  {
   "cell_type": "code",
   "execution_count": null,
   "id": "c5c3dfa2-9ae8-4857-9b79-7749556c2c48",
   "metadata": {},
   "outputs": [],
   "source": []
  },
  {
   "cell_type": "code",
   "execution_count": null,
   "id": "6423f897-aaed-4b09-8d59-d8b69ade5587",
   "metadata": {},
   "outputs": [],
   "source": []
  }
 ],
 "metadata": {
  "kernelspec": {
   "display_name": "Python 3 (ipykernel)",
   "language": "python",
   "name": "python3"
  },
  "language_info": {
   "codemirror_mode": {
    "name": "ipython",
    "version": 3
   },
   "file_extension": ".py",
   "mimetype": "text/x-python",
   "name": "python",
   "nbconvert_exporter": "python",
   "pygments_lexer": "ipython3",
   "version": "3.10.8"
  }
 },
 "nbformat": 4,
 "nbformat_minor": 5
}
